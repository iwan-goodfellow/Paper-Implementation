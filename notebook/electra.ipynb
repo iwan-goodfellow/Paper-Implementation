{
 "cells": [
  {
   "cell_type": "markdown",
   "metadata": {},
   "source": [
    "# ELECTRA\n",
    "Okeehhh kita masuk electra nih, jadi dia tu juga salah satu method efisien dari pretrainingnya transformers <br>\n",
    "Jadi sebenernya kek BERT itu kan dia pake MLM, jadi hanya ada 15% token dalam input yg dimodified, terus otomatis kan dia hanya \"belajar\" dari model yg dimasking, terus 85% token lain itu ga contrib lsg ke training loss (jadi si BERT itu sbenernya mostly input ga punya peran 🥹)"
   ]
  },
  {
   "cell_type": "markdown",
   "metadata": {},
   "source": [
    "ELECTRA disini hadir sbg solusi waddaawww... dia pake yg namanya RTD(replace token detection) gantiin MLM. Flownya adalah\n",
    "- pake model small generator kek bert dll\n",
    "- terus dia itu ganti beberapa token dg token alternatif yg mungkin bener (token palsu dari dia)\n",
    "- terus ada model diskrim yg bakal bedain oh ini token asli oh ini token dah diganti<br><br>\n",
    "terus keunggulannya apa dong?\n",
    "- model belajar dari smua token dalam input\n",
    "- tidak ada perbedaan antara pre-trainnig dan fine tune, beda sama BERT dia kan pake [MASK] cm pas pretrained pas fine tune gaa"
   ]
  },
  {
   "cell_type": "markdown",
   "metadata": {},
   "source": [
    "## Training Objectivenya"
   ]
  },
  {
   "cell_type": "markdown",
   "metadata": {},
   "source": [
    "- Generator dilatih dengna MLM loss kek di BERT lah..\n",
    "$$\n",
    "    \\text L_{MLM} = \\sum_{t \\in masked-position} \\log P_G(X_t|X_{masked})\n",
    "$$"
   ]
  },
  {
   "cell_type": "markdown",
   "metadata": {
    "vscode": {
     "languageId": "plaintext"
    }
   },
   "source": [
    "- Discrimnya dilatih dengan BCE Loss biasa\n",
    "$$\n",
    "    \\text L_{disc} = - \\sum_{t=1}^n [1(y_t=x_t) log D (x,t) + (1-1(y_t=x_t)) log D (x,t)]\n",
    "$$\n",
    "\n",
    "dengan loss akhirnya adalah -> $\\text L = L_{MLM}+\\alpha L_{discrim}$"
   ]
  },
  {
   "cell_type": "code",
   "execution_count": null,
   "metadata": {
    "vscode": {
     "languageId": "plaintext"
    }
   },
   "outputs": [],
   "source": []
  },
  {
   "cell_type": "code",
   "execution_count": null,
   "metadata": {
    "vscode": {
     "languageId": "plaintext"
    }
   },
   "outputs": [],
   "source": []
  },
  {
   "cell_type": "code",
   "execution_count": null,
   "metadata": {
    "vscode": {
     "languageId": "plaintext"
    }
   },
   "outputs": [],
   "source": []
  }
 ],
 "metadata": {
  "language_info": {
   "name": "python"
  }
 },
 "nbformat": 4,
 "nbformat_minor": 2
}
