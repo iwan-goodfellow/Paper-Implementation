{
 "cells": [
  {
   "cell_type": "markdown",
   "metadata": {},
   "source": [
    "# Penjelasan sedikit\n",
    "MiniLM itu pake teknik knowledge distilation buat ngecilin model transformer gede tapi ga kureng performnya. Adapun yg dia lakukan itu dengan skema:\n",
    "- Deep self-att distilation: Jadi kalo bert distil si layernya, si MiniLM dia \"belajar\" self att dari layer terakhirnya aja\n",
    "- Self att value-relation transfer: Selain distribusi si attentionnya (dot prod query.key) dia juga mmprhitungkan hubungan antar values dalam self-att\n",
    "- Teacher assistant: ini fixing transfer knowledge dari model teacher yg gede (model perantara ukuran sedang) "
   ]
  },
  {
   "cell_type": "markdown",
   "metadata": {},
   "source": [
    "$$\n",
    "    \\text L_{kd} = \\sum_{x\\in D} \\text L(f_S(x),f_T(x))\n",
    "$$"
   ]
  },
  {
   "cell_type": "markdown",
   "metadata": {},
   "source": [
    "itu loss distilasinya, si $ \\text f_S(x) \\ $  adalah represent student model  $ \\text f_T(x) $ adalah teachernya. Terus L-nya lossnya sih bisa kek MSe atau KL Divergence"
   ]
  },
  {
   "cell_type": "code",
   "execution_count": null,
   "metadata": {
    "vscode": {
     "languageId": "plaintext"
    }
   },
   "outputs": [],
   "source": []
  },
  {
   "cell_type": "code",
   "execution_count": null,
   "metadata": {
    "vscode": {
     "languageId": "plaintext"
    }
   },
   "outputs": [],
   "source": []
  },
  {
   "cell_type": "code",
   "execution_count": null,
   "metadata": {
    "vscode": {
     "languageId": "plaintext"
    }
   },
   "outputs": [],
   "source": []
  },
  {
   "cell_type": "code",
   "execution_count": null,
   "metadata": {
    "vscode": {
     "languageId": "plaintext"
    }
   },
   "outputs": [],
   "source": []
  },
  {
   "cell_type": "code",
   "execution_count": null,
   "metadata": {
    "vscode": {
     "languageId": "plaintext"
    }
   },
   "outputs": [],
   "source": []
  },
  {
   "cell_type": "code",
   "execution_count": null,
   "metadata": {
    "vscode": {
     "languageId": "plaintext"
    }
   },
   "outputs": [],
   "source": []
  },
  {
   "cell_type": "code",
   "execution_count": null,
   "metadata": {
    "vscode": {
     "languageId": "plaintext"
    }
   },
   "outputs": [],
   "source": []
  },
  {
   "cell_type": "code",
   "execution_count": null,
   "metadata": {
    "vscode": {
     "languageId": "plaintext"
    }
   },
   "outputs": [],
   "source": []
  }
 ],
 "metadata": {
  "language_info": {
   "name": "python"
  }
 },
 "nbformat": 4,
 "nbformat_minor": 2
}
